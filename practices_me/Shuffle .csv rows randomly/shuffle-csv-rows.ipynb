{
 "cells": [
  {
   "cell_type": "code",
   "execution_count": 2,
   "id": "ca1aaded-92be-4ed9-bd20-6578ea46dd21",
   "metadata": {},
   "outputs": [],
   "source": [
    "import pandas as pd\n",
    "\n",
    "# Read data from the CSV file\n",
    "df = pd.read_csv('dataset-tci.csv')\n",
    "\n",
    "# Shuffle all rows randomly (different order each run)\n",
    "df_shuffled = df.sample(frac=1).reset_index(drop=True)\n",
    "\n",
    "# Save the shuffled data to a new CSV file\n",
    "df_shuffled.to_csv('shuffled_output.csv', index=False)\n"
   ]
  },
  {
   "cell_type": "code",
   "execution_count": 3,
   "id": "aa792f3d-4d19-4fe5-b50a-b95d25059504",
   "metadata": {
    "scrolled": true
   },
   "outputs": [
    {
     "name": "stdout",
     "output_type": "stream",
     "text": [
      "       site code sharing-status site type        tower type  tower height  \\\n",
      "0    MTR_r333vz1            yes   Outdoor           Lattice          54.0   \n",
      "1    MTR_b643jn0             no   Outdoor           Lattice          24.0   \n",
      "2     MTR_f60pk1             no    Indoor           Lattice          22.2   \n",
      "3    MTR_i889zf1            yes   Outdoor  NB Lattice Tower          36.0   \n",
      "4    MTR_k634su1            yes    Indoor           Lattice          48.0   \n",
      "..           ...            ...       ...               ...           ...   \n",
      "335  MTR_f830xf1             no    Indoor  NB Lattice Tower          18.0   \n",
      "336  MTR_g489ul1            yes   Outdoor             Pylon          12.0   \n",
      "337  MTR_d665uh1            yes    Indoor          Monopole          36.0   \n",
      "338  MTR_r592hd0             no    Indoor               ICB          24.0   \n",
      "339   MTR_x80xl1            yes   Outdoor          Monopole          30.0   \n",
      "\n",
      "      tech number-2G   tech number-3G   tech number-4G   tech number-5G  \\\n",
      "0                  2                2                2                1   \n",
      "1                  3                3                3                2   \n",
      "2                  2                2                1                3   \n",
      "3                  3                3                2                1   \n",
      "4                  2                2                2                1   \n",
      "..               ...              ...              ...              ...   \n",
      "335                1                0                1                0   \n",
      "336                2                2                2                2   \n",
      "337                3                2                1                0   \n",
      "338                3                0                1                2   \n",
      "339                1                1                1                1   \n",
      "\n",
      "    company-antenna  ...  mechanical tilt of sector 4  \\\n",
      "0          Kathrein  ...                          1.0   \n",
      "1          Kathrein  ...                          2.0   \n",
      "2          Antenkar  ...                          1.0   \n",
      "3            Huawei  ...                          0.2   \n",
      "4            Huawei  ...                          0.0   \n",
      "..              ...  ...                          ...   \n",
      "335        Kathrein  ...                          0.0   \n",
      "336        Kathrein  ...                          0.0   \n",
      "337        Kathrein  ...                          1.0   \n",
      "338          Huawei  ...                          0.0   \n",
      "339          Huawei  ...                          1.0   \n",
      "\n",
      "     antenna tip of sector 4  power sepration amper power sharing coding  \\\n",
      "0                     2X-Pol                     10                  TOM   \n",
      "1                    12X-pol                     32                  MCI   \n",
      "2                     8X-pol                     25                  MCI   \n",
      "3                     4X-Pol                     50                  MCI   \n",
      "4                     5X-Pol                     32                   TM   \n",
      "..                       ...                    ...                  ...   \n",
      "335                   8X-pol                     16                   TM   \n",
      "336                   5X-Pol                     25                  MCI   \n",
      "337                   4X-Pol                     63                   TM   \n",
      "338                   8X-pol                     25                   TM   \n",
      "339                   8X-pol                     25                  MCI   \n",
      "\n",
      "     power type  pahse coding  calc Amper radio image tag  link type  \\\n",
      "0            DC             0         NaN               1         MW   \n",
      "1            AC             3         1.0               0  Fiber-TCX   \n",
      "2            AC             3         1.0               1  Fiber-TCX   \n",
      "3            AC             3         1.0               1      Fiber   \n",
      "4            AC             0        50.0               2     BW-ETH   \n",
      "..          ...           ...         ...             ...        ...   \n",
      "335          AC             0        32.0               0  Fiber-TCX   \n",
      "336          DC             1        25.0               4       HDSL   \n",
      "337          DC             0        80.0               0  Fiber-TCX   \n",
      "338          AC             3        50.0               2     BW-ETH   \n",
      "339          AC             3         1.0               0      Fiber   \n",
      "\n",
      "     percent of being full  \n",
      "0                       55  \n",
      "1                       89  \n",
      "2                       94  \n",
      "3                       98  \n",
      "4                       58  \n",
      "..                     ...  \n",
      "335                     58  \n",
      "336                     75  \n",
      "337                     88  \n",
      "338                     68  \n",
      "339                     93  \n",
      "\n",
      "[340 rows x 34 columns]\n"
     ]
    }
   ],
   "source": [
    "print(df_shuffled)"
   ]
  }
 ],
 "metadata": {
  "kernelspec": {
   "display_name": "Python 3 (ipykernel)",
   "language": "python",
   "name": "python3"
  },
  "language_info": {
   "codemirror_mode": {
    "name": "ipython",
    "version": 3
   },
   "file_extension": ".py",
   "mimetype": "text/x-python",
   "name": "python",
   "nbconvert_exporter": "python",
   "pygments_lexer": "ipython3",
   "version": "3.8.10"
  }
 },
 "nbformat": 4,
 "nbformat_minor": 5
}
