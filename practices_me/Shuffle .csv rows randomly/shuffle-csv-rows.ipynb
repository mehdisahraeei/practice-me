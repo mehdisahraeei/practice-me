{
 "cells": [
  {
   "cell_type": "code",
   "execution_count": 32,
   "id": "ca1aaded-92be-4ed9-bd20-6578ea46dd21",
   "metadata": {},
   "outputs": [
    {
     "name": "stdout",
     "output_type": "stream",
     "text": [
      "✅ ردیف‌ها با موفقیت جابجا شدند و در فایل 'shuffled_output.csv' ذخیره شدند.\n"
     ]
    }
   ],
   "source": [
    "import pandas as pd\n",
    "\n",
    "# Read data from the CSV file\n",
    "df = pd.read_csv('info.csv')\n",
    "\n",
    "# Shuffle all rows randomly (different order each run)\n",
    "df_shuffled = df.sample(frac=1).reset_index(drop=True)\n",
    "\n",
    "# Save the shuffled data to a new CSV file\n",
    "df_shuffled.to_csv('shuffled_output.csv', index=False)\n"
   ]
  },
  {
   "cell_type": "code",
   "execution_count": 31,
   "id": "aa792f3d-4d19-4fe5-b50a-b95d25059504",
   "metadata": {
    "scrolled": true
   },
   "outputs": [],
   "source": [
    "print(df_shuffled)"
   ]
  },
  {
   "cell_type": "code",
   "execution_count": 30,
   "id": "cd03f725-0913-44b5-9c8c-951f9cbf13c6",
   "metadata": {
    "scrolled": true
   },
   "outputs": [
    {
     "name": "stdout",
     "output_type": "stream",
     "text": [
      "✅ ردیف‌ها با موفقیت جابجا شدند و در فایل 'shuffled_output.csv' ذخیره شدند.\n"
     ]
    }
   ],
   "source": [
    "import pandas as pd\n",
    "\n",
    "# خواندن فایل CSV\n",
    "df = pd.read_csv('info.csv')\n",
    "\n",
    "# شافل (جابجایی رندم ردیف‌ها)\n",
    "df_shuffled = df.sample(frac=1).reset_index(drop=True)\n",
    "\n",
    "# ذخیره فایل خروجی\n",
    "df_shuffled.to_csv('shuffled_output.csv', index=False)\n",
    "\n",
    "print(\"✅ ردیف‌ها با موفقیت جابجا شدند و در فایل 'shuffled_output.csv' ذخیره شدند.\")\n"
   ]
  }
 ],
 "metadata": {
  "kernelspec": {
   "display_name": "Python 3 (ipykernel)",
   "language": "python",
   "name": "python3"
  },
  "language_info": {
   "codemirror_mode": {
    "name": "ipython",
    "version": 3
   },
   "file_extension": ".py",
   "mimetype": "text/x-python",
   "name": "python",
   "nbconvert_exporter": "python",
   "pygments_lexer": "ipython3",
   "version": "3.8.10"
  }
 },
 "nbformat": 4,
 "nbformat_minor": 5
}
